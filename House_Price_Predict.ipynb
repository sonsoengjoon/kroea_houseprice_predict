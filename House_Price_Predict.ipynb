{
 "cells": [
  {
   "cell_type": "code",
   "execution_count": 556,
   "id": "2f2b79d6",
   "metadata": {},
   "outputs": [],
   "source": [
    "import pandas as pd\n",
    "import numpy as np"
   ]
  },
  {
   "cell_type": "code",
   "execution_count": 557,
   "id": "2a3f2c4a",
   "metadata": {},
   "outputs": [],
   "source": [
    "df = pd.read_csv(\"./data/final01.csv\", encoding= 'utf-8-sig', thousands=',')\n",
    "\n"
   ]
  },
  {
   "cell_type": "code",
   "execution_count": 558,
   "id": "72819472",
   "metadata": {},
   "outputs": [],
   "source": [
    "# donli, danjiname, doro 삭제 "
   ]
  },
  {
   "cell_type": "code",
   "execution_count": 559,
   "id": "9c3f6aa3",
   "metadata": {},
   "outputs": [],
   "source": [
    "# df_ipji = df[['areadaprice', 'market', 'school', 'station', 'bank', 'cafe', 'hospital']]\n",
    "# df_ipji"
   ]
  },
  {
   "cell_type": "code",
   "execution_count": 560,
   "id": "9180cb94",
   "metadata": {},
   "outputs": [],
   "source": [
    "df = df.drop(['nambang','danjigubn','danjiname', 'donli', 'giha', 'gisa', 'gukag', 'clean', 'guard', 'water', 'amenitiesCnt', 'sedesu', 'food', 'sigog', 'siheg', 'gucha', 'doro','cctv','ellbe', 'eill'], axis=1)"
   ]
  },
  {
   "cell_type": "code",
   "execution_count": 561,
   "id": "e23ad8ea",
   "metadata": {},
   "outputs": [],
   "source": [
    "df = df.drop(['amenities'],axis=1)"
   ]
  },
  {
   "cell_type": "code",
   "execution_count": 562,
   "id": "39ee49f6",
   "metadata": {},
   "outputs": [],
   "source": [
    "df = df.drop(['danjicode'], axis=1)"
   ]
  },
  {
   "cell_type": "code",
   "execution_count": 563,
   "id": "e3e9e833",
   "metadata": {
    "scrolled": true
   },
   "outputs": [
    {
     "data": {
      "text/html": [
       "<div>\n",
       "<style scoped>\n",
       "    .dataframe tbody tr th:only-of-type {\n",
       "        vertical-align: middle;\n",
       "    }\n",
       "\n",
       "    .dataframe tbody tr th {\n",
       "        vertical-align: top;\n",
       "    }\n",
       "\n",
       "    .dataframe thead th {\n",
       "        text-align: right;\n",
       "    }\n",
       "</style>\n",
       "<table border=\"1\" class=\"dataframe\">\n",
       "  <thead>\n",
       "    <tr style=\"text-align: right;\">\n",
       "      <th></th>\n",
       "      <th>areadaprice</th>\n",
       "      <th>market</th>\n",
       "      <th>school</th>\n",
       "      <th>station</th>\n",
       "      <th>bank</th>\n",
       "      <th>cafe</th>\n",
       "      <th>hospital</th>\n",
       "    </tr>\n",
       "  </thead>\n",
       "  <tbody>\n",
       "    <tr>\n",
       "      <th>0</th>\n",
       "      <td>4395.0</td>\n",
       "      <td>5</td>\n",
       "      <td>4</td>\n",
       "      <td>2</td>\n",
       "      <td>40</td>\n",
       "      <td>107</td>\n",
       "      <td>91</td>\n",
       "    </tr>\n",
       "    <tr>\n",
       "      <th>1</th>\n",
       "      <td>3480.0</td>\n",
       "      <td>6</td>\n",
       "      <td>4</td>\n",
       "      <td>2</td>\n",
       "      <td>43</td>\n",
       "      <td>122</td>\n",
       "      <td>98</td>\n",
       "    </tr>\n",
       "    <tr>\n",
       "      <th>2</th>\n",
       "      <td>7701.0</td>\n",
       "      <td>5</td>\n",
       "      <td>0</td>\n",
       "      <td>2</td>\n",
       "      <td>48</td>\n",
       "      <td>174</td>\n",
       "      <td>294</td>\n",
       "    </tr>\n",
       "    <tr>\n",
       "      <th>3</th>\n",
       "      <td>3141.0</td>\n",
       "      <td>8</td>\n",
       "      <td>0</td>\n",
       "      <td>3</td>\n",
       "      <td>70</td>\n",
       "      <td>317</td>\n",
       "      <td>313</td>\n",
       "    </tr>\n",
       "    <tr>\n",
       "      <th>4</th>\n",
       "      <td>10629.0</td>\n",
       "      <td>4</td>\n",
       "      <td>5</td>\n",
       "      <td>3</td>\n",
       "      <td>6</td>\n",
       "      <td>12</td>\n",
       "      <td>11</td>\n",
       "    </tr>\n",
       "    <tr>\n",
       "      <th>...</th>\n",
       "      <td>...</td>\n",
       "      <td>...</td>\n",
       "      <td>...</td>\n",
       "      <td>...</td>\n",
       "      <td>...</td>\n",
       "      <td>...</td>\n",
       "      <td>...</td>\n",
       "    </tr>\n",
       "    <tr>\n",
       "      <th>2415</th>\n",
       "      <td>2087.0</td>\n",
       "      <td>5</td>\n",
       "      <td>2</td>\n",
       "      <td>0</td>\n",
       "      <td>16</td>\n",
       "      <td>32</td>\n",
       "      <td>42</td>\n",
       "    </tr>\n",
       "    <tr>\n",
       "      <th>2416</th>\n",
       "      <td>3164.0</td>\n",
       "      <td>4</td>\n",
       "      <td>1</td>\n",
       "      <td>1</td>\n",
       "      <td>15</td>\n",
       "      <td>58</td>\n",
       "      <td>35</td>\n",
       "    </tr>\n",
       "    <tr>\n",
       "      <th>2417</th>\n",
       "      <td>2095.0</td>\n",
       "      <td>2</td>\n",
       "      <td>2</td>\n",
       "      <td>0</td>\n",
       "      <td>21</td>\n",
       "      <td>48</td>\n",
       "      <td>33</td>\n",
       "    </tr>\n",
       "    <tr>\n",
       "      <th>2418</th>\n",
       "      <td>1752.0</td>\n",
       "      <td>3</td>\n",
       "      <td>3</td>\n",
       "      <td>1</td>\n",
       "      <td>9</td>\n",
       "      <td>25</td>\n",
       "      <td>7</td>\n",
       "    </tr>\n",
       "    <tr>\n",
       "      <th>2419</th>\n",
       "      <td>1843.0</td>\n",
       "      <td>2</td>\n",
       "      <td>3</td>\n",
       "      <td>1</td>\n",
       "      <td>5</td>\n",
       "      <td>8</td>\n",
       "      <td>4</td>\n",
       "    </tr>\n",
       "  </tbody>\n",
       "</table>\n",
       "<p>2420 rows × 7 columns</p>\n",
       "</div>"
      ],
      "text/plain": [
       "      areadaprice  market  school  station  bank  cafe  hospital\n",
       "0          4395.0       5       4        2    40   107        91\n",
       "1          3480.0       6       4        2    43   122        98\n",
       "2          7701.0       5       0        2    48   174       294\n",
       "3          3141.0       8       0        3    70   317       313\n",
       "4         10629.0       4       5        3     6    12        11\n",
       "...           ...     ...     ...      ...   ...   ...       ...\n",
       "2415       2087.0       5       2        0    16    32        42\n",
       "2416       3164.0       4       1        1    15    58        35\n",
       "2417       2095.0       2       2        0    21    48        33\n",
       "2418       1752.0       3       3        1     9    25         7\n",
       "2419       1843.0       2       3        1     5     8         4\n",
       "\n",
       "[2420 rows x 7 columns]"
      ]
     },
     "execution_count": 563,
     "metadata": {},
     "output_type": "execute_result"
    }
   ],
   "source": [
    "df"
   ]
  },
  {
   "cell_type": "code",
   "execution_count": 564,
   "id": "be781cb7",
   "metadata": {},
   "outputs": [
    {
     "data": {
      "text/plain": [
       "Index(['areadaprice', 'market', 'school', 'station', 'bank', 'cafe',\n",
       "       'hospital'],\n",
       "      dtype='object')"
      ]
     },
     "execution_count": 564,
     "metadata": {},
     "output_type": "execute_result"
    }
   ],
   "source": [
    "df.columns"
   ]
  },
  {
   "cell_type": "code",
   "execution_count": 565,
   "id": "18c599dd",
   "metadata": {},
   "outputs": [],
   "source": [
    "# gu_df = df['doro'].str.split(' ').str[1]\n",
    "# gu_df = pd.DataFrame(gu_df)"
   ]
  },
  {
   "cell_type": "code",
   "execution_count": 566,
   "id": "72006d82",
   "metadata": {},
   "outputs": [],
   "source": [
    "# gu_df.columns = [\"gu\"]"
   ]
  },
  {
   "cell_type": "code",
   "execution_count": 567,
   "id": "75f2340d",
   "metadata": {},
   "outputs": [],
   "source": [
    "# df = pd.concat([df, gu_df], axis=1)"
   ]
  },
  {
   "cell_type": "code",
   "execution_count": 568,
   "id": "df00920c",
   "metadata": {},
   "outputs": [],
   "source": [
    "# df['gu'].value_counts()"
   ]
  },
  {
   "cell_type": "code",
   "execution_count": 569,
   "id": "f4cf1de2",
   "metadata": {},
   "outputs": [
    {
     "data": {
      "text/html": [
       "<div>\n",
       "<style scoped>\n",
       "    .dataframe tbody tr th:only-of-type {\n",
       "        vertical-align: middle;\n",
       "    }\n",
       "\n",
       "    .dataframe tbody tr th {\n",
       "        vertical-align: top;\n",
       "    }\n",
       "\n",
       "    .dataframe thead th {\n",
       "        text-align: right;\n",
       "    }\n",
       "</style>\n",
       "<table border=\"1\" class=\"dataframe\">\n",
       "  <thead>\n",
       "    <tr style=\"text-align: right;\">\n",
       "      <th></th>\n",
       "      <th>areadaprice</th>\n",
       "      <th>market</th>\n",
       "      <th>school</th>\n",
       "      <th>station</th>\n",
       "      <th>bank</th>\n",
       "      <th>cafe</th>\n",
       "      <th>hospital</th>\n",
       "    </tr>\n",
       "  </thead>\n",
       "  <tbody>\n",
       "    <tr>\n",
       "      <th>count</th>\n",
       "      <td>2420.000000</td>\n",
       "      <td>2420.000000</td>\n",
       "      <td>2420.000000</td>\n",
       "      <td>2420.000000</td>\n",
       "      <td>2420.000000</td>\n",
       "      <td>2420.000000</td>\n",
       "      <td>2420.000000</td>\n",
       "    </tr>\n",
       "    <tr>\n",
       "      <th>mean</th>\n",
       "      <td>4223.825992</td>\n",
       "      <td>3.754959</td>\n",
       "      <td>2.838017</td>\n",
       "      <td>1.794628</td>\n",
       "      <td>16.143388</td>\n",
       "      <td>49.682645</td>\n",
       "      <td>32.024380</td>\n",
       "    </tr>\n",
       "    <tr>\n",
       "      <th>std</th>\n",
       "      <td>1744.297967</td>\n",
       "      <td>2.118804</td>\n",
       "      <td>1.804237</td>\n",
       "      <td>1.481724</td>\n",
       "      <td>10.423390</td>\n",
       "      <td>43.828965</td>\n",
       "      <td>29.954889</td>\n",
       "    </tr>\n",
       "    <tr>\n",
       "      <th>min</th>\n",
       "      <td>1096.000000</td>\n",
       "      <td>0.000000</td>\n",
       "      <td>0.000000</td>\n",
       "      <td>0.000000</td>\n",
       "      <td>0.000000</td>\n",
       "      <td>0.000000</td>\n",
       "      <td>0.000000</td>\n",
       "    </tr>\n",
       "    <tr>\n",
       "      <th>25%</th>\n",
       "      <td>2985.000000</td>\n",
       "      <td>2.000000</td>\n",
       "      <td>2.000000</td>\n",
       "      <td>1.000000</td>\n",
       "      <td>9.000000</td>\n",
       "      <td>22.000000</td>\n",
       "      <td>13.000000</td>\n",
       "    </tr>\n",
       "    <tr>\n",
       "      <th>50%</th>\n",
       "      <td>3847.200000</td>\n",
       "      <td>3.000000</td>\n",
       "      <td>3.000000</td>\n",
       "      <td>2.000000</td>\n",
       "      <td>14.000000</td>\n",
       "      <td>38.000000</td>\n",
       "      <td>26.000000</td>\n",
       "    </tr>\n",
       "    <tr>\n",
       "      <th>75%</th>\n",
       "      <td>5059.550000</td>\n",
       "      <td>5.000000</td>\n",
       "      <td>4.000000</td>\n",
       "      <td>3.000000</td>\n",
       "      <td>21.000000</td>\n",
       "      <td>62.000000</td>\n",
       "      <td>42.000000</td>\n",
       "    </tr>\n",
       "    <tr>\n",
       "      <th>max</th>\n",
       "      <td>12348.000000</td>\n",
       "      <td>12.000000</td>\n",
       "      <td>10.000000</td>\n",
       "      <td>10.000000</td>\n",
       "      <td>74.000000</td>\n",
       "      <td>554.000000</td>\n",
       "      <td>380.000000</td>\n",
       "    </tr>\n",
       "  </tbody>\n",
       "</table>\n",
       "</div>"
      ],
      "text/plain": [
       "        areadaprice       market       school      station         bank  \\\n",
       "count   2420.000000  2420.000000  2420.000000  2420.000000  2420.000000   \n",
       "mean    4223.825992     3.754959     2.838017     1.794628    16.143388   \n",
       "std     1744.297967     2.118804     1.804237     1.481724    10.423390   \n",
       "min     1096.000000     0.000000     0.000000     0.000000     0.000000   \n",
       "25%     2985.000000     2.000000     2.000000     1.000000     9.000000   \n",
       "50%     3847.200000     3.000000     3.000000     2.000000    14.000000   \n",
       "75%     5059.550000     5.000000     4.000000     3.000000    21.000000   \n",
       "max    12348.000000    12.000000    10.000000    10.000000    74.000000   \n",
       "\n",
       "              cafe     hospital  \n",
       "count  2420.000000  2420.000000  \n",
       "mean     49.682645    32.024380  \n",
       "std      43.828965    29.954889  \n",
       "min       0.000000     0.000000  \n",
       "25%      22.000000    13.000000  \n",
       "50%      38.000000    26.000000  \n",
       "75%      62.000000    42.000000  \n",
       "max     554.000000   380.000000  "
      ]
     },
     "execution_count": 569,
     "metadata": {},
     "output_type": "execute_result"
    }
   ],
   "source": [
    "df.describe()"
   ]
  },
  {
   "cell_type": "code",
   "execution_count": 570,
   "id": "b8cba2e6",
   "metadata": {},
   "outputs": [
    {
     "data": {
      "text/plain": [
       "areadaprice    0\n",
       "market         0\n",
       "school         0\n",
       "station        0\n",
       "bank           0\n",
       "cafe           0\n",
       "hospital       0\n",
       "dtype: int64"
      ]
     },
     "execution_count": 570,
     "metadata": {},
     "output_type": "execute_result"
    }
   ],
   "source": [
    "df.isnull().sum()"
   ]
  },
  {
   "cell_type": "code",
   "execution_count": 571,
   "id": "0b20a3be",
   "metadata": {},
   "outputs": [],
   "source": [
    "# df = df.dropna(subset=['ellbe', 'gisa', 'giha'])"
   ]
  },
  {
   "cell_type": "code",
   "execution_count": 572,
   "id": "e4c0003e",
   "metadata": {},
   "outputs": [],
   "source": [
    "#df = df.dropna(thresh=20)"
   ]
  },
  {
   "cell_type": "code",
   "execution_count": 573,
   "id": "cec60f9c",
   "metadata": {},
   "outputs": [],
   "source": [
    "# 나중에 수치데이터로 바꿔줘야 할듯"
   ]
  },
  {
   "cell_type": "code",
   "execution_count": 574,
   "id": "ab5f5005",
   "metadata": {},
   "outputs": [],
   "source": [
    "# df.loc[:,['danjigubn']] = df.loc[:,['danjigubn']].fillna('아파트')"
   ]
  },
  {
   "cell_type": "code",
   "execution_count": 575,
   "id": "4beedada",
   "metadata": {},
   "outputs": [
    {
     "data": {
      "text/plain": [
       "areadaprice    0\n",
       "market         0\n",
       "school         0\n",
       "station        0\n",
       "bank           0\n",
       "cafe           0\n",
       "hospital       0\n",
       "dtype: int64"
      ]
     },
     "execution_count": 575,
     "metadata": {},
     "output_type": "execute_result"
    }
   ],
   "source": [
    "df.isnull().sum()"
   ]
  },
  {
   "cell_type": "code",
   "execution_count": 576,
   "id": "da1bac9c",
   "metadata": {},
   "outputs": [
    {
     "data": {
      "text/plain": [
       "areadaprice    2420\n",
       "market         2420\n",
       "school         2420\n",
       "station        2420\n",
       "bank           2420\n",
       "cafe           2420\n",
       "hospital       2420\n",
       "dtype: int64"
      ]
     },
     "execution_count": 576,
     "metadata": {},
     "output_type": "execute_result"
    }
   ],
   "source": [
    "df.count()"
   ]
  },
  {
   "cell_type": "code",
   "execution_count": 577,
   "id": "8b190244",
   "metadata": {},
   "outputs": [],
   "source": [
    "#df['sigog'] = df['sigog'].str.replace('주','')"
   ]
  },
  {
   "cell_type": "code",
   "execution_count": 578,
   "id": "1585c38d",
   "metadata": {},
   "outputs": [],
   "source": [
    "#df[\"sigog\"] = df[\"sigog\"].str.replace(pat=r'[^\\w]', repl=r'', regex=True)"
   ]
  },
  {
   "cell_type": "code",
   "execution_count": 579,
   "id": "a94305dd",
   "metadata": {},
   "outputs": [],
   "source": [
    "# df = df.dropna()\n",
    "# df.count()"
   ]
  },
  {
   "cell_type": "code",
   "execution_count": 580,
   "id": "f77b6ba0",
   "metadata": {},
   "outputs": [],
   "source": [
    "# df['sigog'].value_counts()[:50]"
   ]
  },
  {
   "cell_type": "code",
   "execution_count": 581,
   "id": "4fc6a7eb",
   "metadata": {},
   "outputs": [],
   "source": [
    "# df.loc[~((df['sigog'] == '현대건설') | (df['sigog'] == '삼성물산') | (df['sigog']=='현대산업개발') | (df['sigog'] == '대우건설')), 'sigog'] = \"other\""
   ]
  },
  {
   "cell_type": "code",
   "execution_count": 582,
   "id": "9cad8f8d",
   "metadata": {},
   "outputs": [],
   "source": [
    "# df.isnull().sum()"
   ]
  },
  {
   "cell_type": "code",
   "execution_count": 583,
   "id": "8d0e1efa",
   "metadata": {},
   "outputs": [],
   "source": [
    "# df['sigog'].value_counts()"
   ]
  },
  {
   "cell_type": "code",
   "execution_count": 584,
   "id": "8f13d52c",
   "metadata": {},
   "outputs": [],
   "source": [
    "# categories = df.columns[df.dtypes==\"object\"]\n",
    "# print(categories)"
   ]
  },
  {
   "cell_type": "code",
   "execution_count": 585,
   "id": "0b466869",
   "metadata": {},
   "outputs": [],
   "source": [
    "from sklearn.preprocessing import LabelEncoder"
   ]
  },
  {
   "cell_type": "code",
   "execution_count": 586,
   "id": "d4b13781",
   "metadata": {},
   "outputs": [
    {
     "name": "stdout",
     "output_type": "stream",
     "text": [
      "danjigubn\n"
     ]
    },
    {
     "ename": "KeyError",
     "evalue": "'danjigubn'",
     "output_type": "error",
     "traceback": [
      "\u001b[1;31m---------------------------------------------------------------------------\u001b[0m",
      "\u001b[1;31mKeyError\u001b[0m                                  Traceback (most recent call last)",
      "\u001b[1;32m~\\anaconda3\\lib\\site-packages\\pandas\\core\\indexes\\base.py\u001b[0m in \u001b[0;36mget_loc\u001b[1;34m(self, key, method, tolerance)\u001b[0m\n\u001b[0;32m   3360\u001b[0m             \u001b[1;32mtry\u001b[0m\u001b[1;33m:\u001b[0m\u001b[1;33m\u001b[0m\u001b[1;33m\u001b[0m\u001b[0m\n\u001b[1;32m-> 3361\u001b[1;33m                 \u001b[1;32mreturn\u001b[0m \u001b[0mself\u001b[0m\u001b[1;33m.\u001b[0m\u001b[0m_engine\u001b[0m\u001b[1;33m.\u001b[0m\u001b[0mget_loc\u001b[0m\u001b[1;33m(\u001b[0m\u001b[0mcasted_key\u001b[0m\u001b[1;33m)\u001b[0m\u001b[1;33m\u001b[0m\u001b[1;33m\u001b[0m\u001b[0m\n\u001b[0m\u001b[0;32m   3362\u001b[0m             \u001b[1;32mexcept\u001b[0m \u001b[0mKeyError\u001b[0m \u001b[1;32mas\u001b[0m \u001b[0merr\u001b[0m\u001b[1;33m:\u001b[0m\u001b[1;33m\u001b[0m\u001b[1;33m\u001b[0m\u001b[0m\n",
      "\u001b[1;32m~\\anaconda3\\lib\\site-packages\\pandas\\_libs\\index.pyx\u001b[0m in \u001b[0;36mpandas._libs.index.IndexEngine.get_loc\u001b[1;34m()\u001b[0m\n",
      "\u001b[1;32m~\\anaconda3\\lib\\site-packages\\pandas\\_libs\\index.pyx\u001b[0m in \u001b[0;36mpandas._libs.index.IndexEngine.get_loc\u001b[1;34m()\u001b[0m\n",
      "\u001b[1;32mpandas\\_libs\\hashtable_class_helper.pxi\u001b[0m in \u001b[0;36mpandas._libs.hashtable.PyObjectHashTable.get_item\u001b[1;34m()\u001b[0m\n",
      "\u001b[1;32mpandas\\_libs\\hashtable_class_helper.pxi\u001b[0m in \u001b[0;36mpandas._libs.hashtable.PyObjectHashTable.get_item\u001b[1;34m()\u001b[0m\n",
      "\u001b[1;31mKeyError\u001b[0m: 'danjigubn'",
      "\nThe above exception was the direct cause of the following exception:\n",
      "\u001b[1;31mKeyError\u001b[0m                                  Traceback (most recent call last)",
      "\u001b[1;32m~\\AppData\\Local\\Temp/ipykernel_27836/2929949689.py\u001b[0m in \u001b[0;36m<module>\u001b[1;34m\u001b[0m\n\u001b[0;32m      2\u001b[0m     \u001b[0mle\u001b[0m \u001b[1;33m=\u001b[0m \u001b[0mLabelEncoder\u001b[0m\u001b[1;33m(\u001b[0m\u001b[1;33m)\u001b[0m\u001b[1;33m\u001b[0m\u001b[1;33m\u001b[0m\u001b[0m\n\u001b[0;32m      3\u001b[0m     \u001b[0mprint\u001b[0m\u001b[1;33m(\u001b[0m\u001b[0mcat\u001b[0m\u001b[1;33m)\u001b[0m\u001b[1;33m\u001b[0m\u001b[1;33m\u001b[0m\u001b[0m\n\u001b[1;32m----> 4\u001b[1;33m     \u001b[1;32mif\u001b[0m \u001b[0mdf\u001b[0m\u001b[1;33m[\u001b[0m\u001b[0mcat\u001b[0m\u001b[1;33m]\u001b[0m\u001b[1;33m.\u001b[0m\u001b[0mdtypes\u001b[0m \u001b[1;33m==\u001b[0m \u001b[1;34m\"object\"\u001b[0m\u001b[1;33m:\u001b[0m\u001b[1;33m\u001b[0m\u001b[1;33m\u001b[0m\u001b[0m\n\u001b[0m\u001b[0;32m      5\u001b[0m         \u001b[0mle\u001b[0m \u001b[1;33m=\u001b[0m \u001b[0mle\u001b[0m\u001b[1;33m.\u001b[0m\u001b[0mfit\u001b[0m\u001b[1;33m(\u001b[0m\u001b[0mdf\u001b[0m\u001b[1;33m[\u001b[0m\u001b[0mcat\u001b[0m\u001b[1;33m]\u001b[0m\u001b[1;33m)\u001b[0m\u001b[1;33m\u001b[0m\u001b[1;33m\u001b[0m\u001b[0m\n\u001b[0;32m      6\u001b[0m         \u001b[0mdf\u001b[0m\u001b[1;33m[\u001b[0m\u001b[0mcat\u001b[0m\u001b[1;33m]\u001b[0m \u001b[1;33m=\u001b[0m \u001b[0mle\u001b[0m\u001b[1;33m.\u001b[0m\u001b[0mtransform\u001b[0m\u001b[1;33m(\u001b[0m\u001b[0mdf\u001b[0m\u001b[1;33m[\u001b[0m\u001b[0mcat\u001b[0m\u001b[1;33m]\u001b[0m\u001b[1;33m)\u001b[0m\u001b[1;33m\u001b[0m\u001b[1;33m\u001b[0m\u001b[0m\n",
      "\u001b[1;32m~\\anaconda3\\lib\\site-packages\\pandas\\core\\frame.py\u001b[0m in \u001b[0;36m__getitem__\u001b[1;34m(self, key)\u001b[0m\n\u001b[0;32m   3456\u001b[0m             \u001b[1;32mif\u001b[0m \u001b[0mself\u001b[0m\u001b[1;33m.\u001b[0m\u001b[0mcolumns\u001b[0m\u001b[1;33m.\u001b[0m\u001b[0mnlevels\u001b[0m \u001b[1;33m>\u001b[0m \u001b[1;36m1\u001b[0m\u001b[1;33m:\u001b[0m\u001b[1;33m\u001b[0m\u001b[1;33m\u001b[0m\u001b[0m\n\u001b[0;32m   3457\u001b[0m                 \u001b[1;32mreturn\u001b[0m \u001b[0mself\u001b[0m\u001b[1;33m.\u001b[0m\u001b[0m_getitem_multilevel\u001b[0m\u001b[1;33m(\u001b[0m\u001b[0mkey\u001b[0m\u001b[1;33m)\u001b[0m\u001b[1;33m\u001b[0m\u001b[1;33m\u001b[0m\u001b[0m\n\u001b[1;32m-> 3458\u001b[1;33m             \u001b[0mindexer\u001b[0m \u001b[1;33m=\u001b[0m \u001b[0mself\u001b[0m\u001b[1;33m.\u001b[0m\u001b[0mcolumns\u001b[0m\u001b[1;33m.\u001b[0m\u001b[0mget_loc\u001b[0m\u001b[1;33m(\u001b[0m\u001b[0mkey\u001b[0m\u001b[1;33m)\u001b[0m\u001b[1;33m\u001b[0m\u001b[1;33m\u001b[0m\u001b[0m\n\u001b[0m\u001b[0;32m   3459\u001b[0m             \u001b[1;32mif\u001b[0m \u001b[0mis_integer\u001b[0m\u001b[1;33m(\u001b[0m\u001b[0mindexer\u001b[0m\u001b[1;33m)\u001b[0m\u001b[1;33m:\u001b[0m\u001b[1;33m\u001b[0m\u001b[1;33m\u001b[0m\u001b[0m\n\u001b[0;32m   3460\u001b[0m                 \u001b[0mindexer\u001b[0m \u001b[1;33m=\u001b[0m \u001b[1;33m[\u001b[0m\u001b[0mindexer\u001b[0m\u001b[1;33m]\u001b[0m\u001b[1;33m\u001b[0m\u001b[1;33m\u001b[0m\u001b[0m\n",
      "\u001b[1;32m~\\anaconda3\\lib\\site-packages\\pandas\\core\\indexes\\base.py\u001b[0m in \u001b[0;36mget_loc\u001b[1;34m(self, key, method, tolerance)\u001b[0m\n\u001b[0;32m   3361\u001b[0m                 \u001b[1;32mreturn\u001b[0m \u001b[0mself\u001b[0m\u001b[1;33m.\u001b[0m\u001b[0m_engine\u001b[0m\u001b[1;33m.\u001b[0m\u001b[0mget_loc\u001b[0m\u001b[1;33m(\u001b[0m\u001b[0mcasted_key\u001b[0m\u001b[1;33m)\u001b[0m\u001b[1;33m\u001b[0m\u001b[1;33m\u001b[0m\u001b[0m\n\u001b[0;32m   3362\u001b[0m             \u001b[1;32mexcept\u001b[0m \u001b[0mKeyError\u001b[0m \u001b[1;32mas\u001b[0m \u001b[0merr\u001b[0m\u001b[1;33m:\u001b[0m\u001b[1;33m\u001b[0m\u001b[1;33m\u001b[0m\u001b[0m\n\u001b[1;32m-> 3363\u001b[1;33m                 \u001b[1;32mraise\u001b[0m \u001b[0mKeyError\u001b[0m\u001b[1;33m(\u001b[0m\u001b[0mkey\u001b[0m\u001b[1;33m)\u001b[0m \u001b[1;32mfrom\u001b[0m \u001b[0merr\u001b[0m\u001b[1;33m\u001b[0m\u001b[1;33m\u001b[0m\u001b[0m\n\u001b[0m\u001b[0;32m   3364\u001b[0m \u001b[1;33m\u001b[0m\u001b[0m\n\u001b[0;32m   3365\u001b[0m         \u001b[1;32mif\u001b[0m \u001b[0mis_scalar\u001b[0m\u001b[1;33m(\u001b[0m\u001b[0mkey\u001b[0m\u001b[1;33m)\u001b[0m \u001b[1;32mand\u001b[0m \u001b[0misna\u001b[0m\u001b[1;33m(\u001b[0m\u001b[0mkey\u001b[0m\u001b[1;33m)\u001b[0m \u001b[1;32mand\u001b[0m \u001b[1;32mnot\u001b[0m \u001b[0mself\u001b[0m\u001b[1;33m.\u001b[0m\u001b[0mhasnans\u001b[0m\u001b[1;33m:\u001b[0m\u001b[1;33m\u001b[0m\u001b[1;33m\u001b[0m\u001b[0m\n",
      "\u001b[1;31mKeyError\u001b[0m: 'danjigubn'"
     ]
    }
   ],
   "source": [
    "for cat in categories:\n",
    "    le = LabelEncoder()\n",
    "    print(cat)\n",
    "    if df[cat].dtypes == \"object\":\n",
    "        le = le.fit(df[cat])\n",
    "        df[cat] = le.transform(df[cat])"
   ]
  },
  {
   "cell_type": "code",
   "execution_count": 587,
   "id": "4d42e5db",
   "metadata": {},
   "outputs": [
    {
     "data": {
      "text/plain": [
       "areadaprice    float64\n",
       "market           int64\n",
       "school           int64\n",
       "station          int64\n",
       "bank             int64\n",
       "cafe             int64\n",
       "hospital         int64\n",
       "dtype: object"
      ]
     },
     "execution_count": 587,
     "metadata": {},
     "output_type": "execute_result"
    }
   ],
   "source": [
    "df.dtypes"
   ]
  },
  {
   "cell_type": "code",
   "execution_count": 588,
   "id": "1392c3be",
   "metadata": {},
   "outputs": [],
   "source": [
    "df_corr = df.corr()"
   ]
  },
  {
   "cell_type": "code",
   "execution_count": 589,
   "id": "700cd602",
   "metadata": {},
   "outputs": [
    {
     "data": {
      "text/html": [
       "<div>\n",
       "<style scoped>\n",
       "    .dataframe tbody tr th:only-of-type {\n",
       "        vertical-align: middle;\n",
       "    }\n",
       "\n",
       "    .dataframe tbody tr th {\n",
       "        vertical-align: top;\n",
       "    }\n",
       "\n",
       "    .dataframe thead th {\n",
       "        text-align: right;\n",
       "    }\n",
       "</style>\n",
       "<table border=\"1\" class=\"dataframe\">\n",
       "  <thead>\n",
       "    <tr style=\"text-align: right;\">\n",
       "      <th></th>\n",
       "      <th>areadaprice</th>\n",
       "      <th>market</th>\n",
       "      <th>school</th>\n",
       "      <th>station</th>\n",
       "      <th>bank</th>\n",
       "      <th>cafe</th>\n",
       "      <th>hospital</th>\n",
       "    </tr>\n",
       "  </thead>\n",
       "  <tbody>\n",
       "    <tr>\n",
       "      <th>areadaprice</th>\n",
       "      <td>1.000000</td>\n",
       "      <td>0.247601</td>\n",
       "      <td>-0.001195</td>\n",
       "      <td>0.251017</td>\n",
       "      <td>0.111967</td>\n",
       "      <td>0.125650</td>\n",
       "      <td>0.203746</td>\n",
       "    </tr>\n",
       "    <tr>\n",
       "      <th>market</th>\n",
       "      <td>0.247601</td>\n",
       "      <td>1.000000</td>\n",
       "      <td>0.122298</td>\n",
       "      <td>0.185823</td>\n",
       "      <td>0.287175</td>\n",
       "      <td>0.218134</td>\n",
       "      <td>0.309903</td>\n",
       "    </tr>\n",
       "    <tr>\n",
       "      <th>school</th>\n",
       "      <td>-0.001195</td>\n",
       "      <td>0.122298</td>\n",
       "      <td>1.000000</td>\n",
       "      <td>0.003324</td>\n",
       "      <td>-0.096869</td>\n",
       "      <td>-0.136507</td>\n",
       "      <td>-0.067414</td>\n",
       "    </tr>\n",
       "    <tr>\n",
       "      <th>station</th>\n",
       "      <td>0.251017</td>\n",
       "      <td>0.185823</td>\n",
       "      <td>0.003324</td>\n",
       "      <td>1.000000</td>\n",
       "      <td>0.431185</td>\n",
       "      <td>0.391553</td>\n",
       "      <td>0.268566</td>\n",
       "    </tr>\n",
       "    <tr>\n",
       "      <th>bank</th>\n",
       "      <td>0.111967</td>\n",
       "      <td>0.287175</td>\n",
       "      <td>-0.096869</td>\n",
       "      <td>0.431185</td>\n",
       "      <td>1.000000</td>\n",
       "      <td>0.716470</td>\n",
       "      <td>0.675156</td>\n",
       "    </tr>\n",
       "    <tr>\n",
       "      <th>cafe</th>\n",
       "      <td>0.125650</td>\n",
       "      <td>0.218134</td>\n",
       "      <td>-0.136507</td>\n",
       "      <td>0.391553</td>\n",
       "      <td>0.716470</td>\n",
       "      <td>1.000000</td>\n",
       "      <td>0.619647</td>\n",
       "    </tr>\n",
       "    <tr>\n",
       "      <th>hospital</th>\n",
       "      <td>0.203746</td>\n",
       "      <td>0.309903</td>\n",
       "      <td>-0.067414</td>\n",
       "      <td>0.268566</td>\n",
       "      <td>0.675156</td>\n",
       "      <td>0.619647</td>\n",
       "      <td>1.000000</td>\n",
       "    </tr>\n",
       "  </tbody>\n",
       "</table>\n",
       "</div>"
      ],
      "text/plain": [
       "             areadaprice    market    school   station      bank      cafe  \\\n",
       "areadaprice     1.000000  0.247601 -0.001195  0.251017  0.111967  0.125650   \n",
       "market          0.247601  1.000000  0.122298  0.185823  0.287175  0.218134   \n",
       "school         -0.001195  0.122298  1.000000  0.003324 -0.096869 -0.136507   \n",
       "station         0.251017  0.185823  0.003324  1.000000  0.431185  0.391553   \n",
       "bank            0.111967  0.287175 -0.096869  0.431185  1.000000  0.716470   \n",
       "cafe            0.125650  0.218134 -0.136507  0.391553  0.716470  1.000000   \n",
       "hospital        0.203746  0.309903 -0.067414  0.268566  0.675156  0.619647   \n",
       "\n",
       "             hospital  \n",
       "areadaprice  0.203746  \n",
       "market       0.309903  \n",
       "school      -0.067414  \n",
       "station      0.268566  \n",
       "bank         0.675156  \n",
       "cafe         0.619647  \n",
       "hospital     1.000000  "
      ]
     },
     "execution_count": 589,
     "metadata": {},
     "output_type": "execute_result"
    }
   ],
   "source": [
    "df_corr"
   ]
  },
  {
   "cell_type": "code",
   "execution_count": 590,
   "id": "962551cd",
   "metadata": {},
   "outputs": [],
   "source": [
    "%matplotlib inline\n",
    "import matplotlib.pyplot as plt\n",
    "import seaborn as sns"
   ]
  },
  {
   "cell_type": "code",
   "execution_count": 591,
   "id": "0f0ec8f4",
   "metadata": {},
   "outputs": [
    {
     "data": {
      "text/plain": [
       "<AxesSubplot:>"
      ]
     },
     "execution_count": 591,
     "metadata": {},
     "output_type": "execute_result"
    },
    {
     "data": {
      "image/png": "[encoded data removed]",
      "text/plain": [
       "<Figure size 1080x1080 with 2 Axes>"
      ]
     },
     "metadata": {
      "needs_background": "light"
     },
     "output_type": "display_data"
    }
   ],
   "source": [
    "plt.figure(figsize=(15,15))\n",
    "sns.heatmap(df_corr, vmax=1, vmin=-1, center=0, annot=True)"
   ]
  },
  {
   "cell_type": "code",
   "execution_count": 592,
   "id": "87cb58cc",
   "metadata": {},
   "outputs": [],
   "source": [
    "train_df_le = df[~df['areadaprice'].isnull()]\n",
    "test_df_le = df[df['areadaprice'].isnull()]"
   ]
  },
  {
   "cell_type": "code",
   "execution_count": 593,
   "id": "4d47044b",
   "metadata": {},
   "outputs": [],
   "source": [
    "import lightgbm as lgb"
   ]
  },
  {
   "cell_type": "code",
   "execution_count": 594,
   "id": "95921a0b",
   "metadata": {},
   "outputs": [],
   "source": [
    "from sklearn.model_selection import KFold\n",
    "folds = 3\n",
    "kf = KFold(n_splits = folds)"
   ]
  },
  {
   "cell_type": "code",
   "execution_count": 595,
   "id": "7cecd1df",
   "metadata": {},
   "outputs": [],
   "source": [
    "lgbm_params = {\n",
    "    \"objective\":\"regression\",\n",
    "    \"random_seed\":1234\n",
    "}"
   ]
  },
  {
   "cell_type": "code",
   "execution_count": 596,
   "id": "78cd41cf",
   "metadata": {},
   "outputs": [],
   "source": [
    "train_X = train_df_le.drop(['areadaprice'], axis=1)\n",
    "train_Y = train_df_le['areadaprice']"
   ]
  },
  {
   "cell_type": "code",
   "execution_count": 597,
   "id": "74a07c24",
   "metadata": {},
   "outputs": [],
   "source": [
    "from sklearn.metrics import mean_squared_error\n"
   ]
  },
  {
   "cell_type": "code",
   "execution_count": 598,
   "id": "4f621e0b",
   "metadata": {},
   "outputs": [
    {
     "data": {
      "text/plain": [
       "areadaprice    float64\n",
       "market           int64\n",
       "school           int64\n",
       "station          int64\n",
       "bank             int64\n",
       "cafe             int64\n",
       "hospital         int64\n",
       "dtype: object"
      ]
     },
     "execution_count": 598,
     "metadata": {},
     "output_type": "execute_result"
    }
   ],
   "source": [
    "df.dtypes"
   ]
  },
  {
   "cell_type": "code",
   "execution_count": 599,
   "id": "a89cf810",
   "metadata": {},
   "outputs": [
    {
     "name": "stdout",
     "output_type": "stream",
     "text": [
      "[LightGBM] [Warning] Auto-choosing col-wise multi-threading, the overhead of testing was 0.000118 seconds.\n",
      "You can set `force_col_wise=true` to remove the overhead.\n",
      "[LightGBM] [Info] Total Bins 307\n",
      "[LightGBM] [Info] Number of data points in the train set: 1613, number of used features: 6\n",
      "[LightGBM] [Info] Start training from score 4109.564352\n",
      "Training until validation scores don't improve for 20 rounds\n",
      "[10]\tvalid_0's l2: 3.60552e+06\n",
      "[20]\tvalid_0's l2: 3.48703e+06\n",
      "[30]\tvalid_0's l2: 3.48081e+06\n",
      "[40]\tvalid_0's l2: 3.43601e+06\n",
      "[50]\tvalid_0's l2: 3.42924e+06\n",
      "[60]\tvalid_0's l2: 3.46606e+06\n",
      "Early stopping, best iteration is:\n",
      "[45]\tvalid_0's l2: 3.419e+06\n",
      "0.3837125092175581\n",
      "[LightGBM] [Warning] Auto-choosing col-wise multi-threading, the overhead of testing was 0.000069 seconds.\n",
      "You can set `force_col_wise=true` to remove the overhead.\n",
      "[LightGBM] [Info] Total Bins 334\n",
      "[LightGBM] [Info] Number of data points in the train set: 1613, number of used features: 6\n",
      "[LightGBM] [Info] Start training from score 4275.589584\n",
      "Training until validation scores don't improve for 20 rounds\n",
      "[10]\tvalid_0's l2: 2.13232e+06\n",
      "[20]\tvalid_0's l2: 2.06948e+06\n",
      "[30]\tvalid_0's l2: 2.05321e+06\n",
      "[40]\tvalid_0's l2: 2.05626e+06\n",
      "[50]\tvalid_0's l2: 2.06286e+06\n",
      "Early stopping, best iteration is:\n",
      "[31]\tvalid_0's l2: 2.04685e+06\n",
      "0.33858689087258226\n",
      "[LightGBM] [Warning] Auto-choosing col-wise multi-threading, the overhead of testing was 0.000075 seconds.\n",
      "You can set `force_col_wise=true` to remove the overhead.\n",
      "[LightGBM] [Info] Total Bins 331\n",
      "[LightGBM] [Info] Number of data points in the train set: 1614, number of used features: 6\n",
      "[LightGBM] [Info] Start training from score 4286.285318\n",
      "Training until validation scores don't improve for 20 rounds\n",
      "[10]\tvalid_0's l2: 2.3837e+06\n",
      "[20]\tvalid_0's l2: 2.3628e+06\n",
      "[30]\tvalid_0's l2: 2.34678e+06\n",
      "[40]\tvalid_0's l2: 2.36622e+06\n",
      "Early stopping, best iteration is:\n",
      "[27]\tvalid_0's l2: 2.34575e+06\n",
      "0.364647892752668\n"
     ]
    }
   ],
   "source": [
    "models = []\n",
    "rmses = []\n",
    "oof = np.zeros(len(train_X))\n",
    "\n",
    "for train_index, val_index in kf.split(train_X):\n",
    "    X_train = train_X.iloc[train_index]\n",
    "    X_valid = train_X.iloc[val_index]\n",
    "    y_train = train_Y.iloc[train_index]\n",
    "    y_valid = train_Y.iloc[val_index]\n",
    "    \n",
    "    lgb_train = lgb.Dataset(X_train, y_train)\n",
    "    lgb_eval = lgb.Dataset(X_valid, y_valid, reference=lgb_train)\n",
    "    \n",
    "    model_lgb = lgb.train(lgbm_params,\n",
    "                         lgb_train,\n",
    "                          valid_sets = lgb_eval,\n",
    "                         num_boost_round=100,\n",
    "                         early_stopping_rounds=20,\n",
    "                         verbose_eval = 10)\n",
    "    \n",
    "    y_pred = model_lgb.predict(X_valid, num_iteration=model_lgb.best_iteration)\n",
    "    tmp_rmse = np.sqrt(mean_squared_error(np.log(y_valid), np.log(y_pred)))\n",
    "    print(tmp_rmse)\n",
    "    \n",
    "    models.append(model_lgb)\n",
    "    rmses.append(tmp_rmse)\n",
    "    oof[val_index] = y_pred"
   ]
  },
  {
   "cell_type": "code",
   "execution_count": 614,
   "id": "39440537",
   "metadata": {},
   "outputs": [
    {
     "data": {
      "image/png": "[encoded data removed]",
      "text/plain": [
       "<Figure size 432x288 with 1 Axes>"
      ]
     },
     "metadata": {
      "needs_background": "light"
     },
     "output_type": "display_data"
    },
    {
     "data": {
      "image/png": "[encoded data removed]",
      "text/plain": [
       "<Figure size 432x288 with 1 Axes>"
      ]
     },
     "metadata": {
      "needs_background": "light"
     },
     "output_type": "display_data"
    },
    {
     "data": {
      "image/png": "[encoded data removed]",
      "text/plain": [
       "<Figure size 432x288 with 1 Axes>"
      ]
     },
     "metadata": {
      "needs_background": "light"
     },
     "output_type": "display_data"
    }
   ],
   "source": [
    "for model in models:\n",
    "    lgb.plot_importance(model, importance_type='gain', max_num_features=3)"
   ]
  },
  {
   "cell_type": "code",
   "execution_count": 601,
   "id": "a3fc74b0",
   "metadata": {},
   "outputs": [],
   "source": [
    "actual_pred_df = pd.DataFrame({\n",
    "    \"actual\": train_Y,\n",
    "    \"pred\": oof\n",
    "})"
   ]
  },
  {
   "cell_type": "code",
   "execution_count": 602,
   "id": "11703836",
   "metadata": {},
   "outputs": [
    {
     "data": {
      "text/plain": [
       "<AxesSubplot:>"
      ]
     },
     "execution_count": 602,
     "metadata": {},
     "output_type": "execute_result"
    },
    {
     "data": {
      "image/png": "[encoded data removed]",
      "text/plain": [
       "<Figure size 864x360 with 1 Axes>"
      ]
     },
     "metadata": {
      "needs_background": "light"
     },
     "output_type": "display_data"
    }
   ],
   "source": [
    "import matplotlib as plt\n",
    "\n",
    "actual_pred_df.plot(figsize=(12,5))"
   ]
  },
  {
   "cell_type": "code",
   "execution_count": 603,
   "id": "e8af4c71",
   "metadata": {},
   "outputs": [
    {
     "data": {
      "text/plain": [
       "count     2420.000000\n",
       "mean      4223.825992\n",
       "std       1744.297967\n",
       "min       1096.000000\n",
       "25%       2985.000000\n",
       "50%       3847.200000\n",
       "75%       5059.550000\n",
       "max      12348.000000\n",
       "Name: areadaprice, dtype: float64"
      ]
     },
     "execution_count": 603,
     "metadata": {},
     "output_type": "execute_result"
    }
   ],
   "source": [
    "df['areadaprice'].describe()"
   ]
  },
  {
   "cell_type": "code",
   "execution_count": 604,
   "id": "228ab7f9",
   "metadata": {},
   "outputs": [
    {
     "data": {
      "text/plain": [
       "<AxesSubplot:ylabel='Frequency'>"
      ]
     },
     "execution_count": 604,
     "metadata": {},
     "output_type": "execute_result"
    },
    {
     "data": {
      "image/png": "[encoded data removed]",
      "text/plain": [
       "<Figure size 432x288 with 1 Axes>"
      ]
     },
     "metadata": {
      "needs_background": "light"
     },
     "output_type": "display_data"
    }
   ],
   "source": [
    "df['areadaprice'].plot.hist(bins=20)"
   ]
  },
  {
   "cell_type": "code",
   "execution_count": 605,
   "id": "da0d5b82",
   "metadata": {},
   "outputs": [],
   "source": [
    "# 포아송 분포\n",
    "\n",
    "# 잘 일어나지 않는 사건이 실제로 일어날 확률의 분포를 나타낼 때 이용하며, 좌우 대칭인 정규분포와 달리 왼쪽으로 치우침"
   ]
  },
  {
   "cell_type": "code",
   "execution_count": 606,
   "id": "24027614",
   "metadata": {},
   "outputs": [],
   "source": [
    "# 목적 변수를 로그화 하기\n",
    "# 일반적으로 머신 러닝이나 통계적인 처리의 대부분은 데이터가 정규 분포임을 상정하고 있다. "
   ]
  },
  {
   "cell_type": "code",
   "execution_count": 607,
   "id": "eaff15f5",
   "metadata": {},
   "outputs": [
    {
     "data": {
      "text/plain": [
       "<AxesSubplot:ylabel='Frequency'>"
      ]
     },
     "execution_count": 607,
     "metadata": {},
     "output_type": "execute_result"
    },
    {
     "data": {
      "image/png": "[encoded data removed]",
      "text/plain": [
       "<Figure size 432x288 with 1 Axes>"
      ]
     },
     "metadata": {
      "needs_background": "light"
     },
     "output_type": "display_data"
    }
   ],
   "source": [
    "np.log(df['areadaprice']).plot.hist(bins=20)"
   ]
  },
  {
   "cell_type": "code",
   "execution_count": 608,
   "id": "b6dc6a2d",
   "metadata": {},
   "outputs": [],
   "source": [
    "pd.options.mode.chained_assignment = None\n",
    "train_df_le['areadaprice_log'] = np.log(train_df_le['areadaprice'])"
   ]
  },
  {
   "cell_type": "code",
   "execution_count": 609,
   "id": "f95def3c",
   "metadata": {},
   "outputs": [],
   "source": [
    "train_X = train_df_le.drop(['areadaprice', 'areadaprice_log'], axis=1)\n",
    "train_Y = train_df_le['areadaprice_log']"
   ]
  },
  {
   "cell_type": "code",
   "execution_count": 610,
   "id": "4c27bc4a",
   "metadata": {},
   "outputs": [
    {
     "name": "stdout",
     "output_type": "stream",
     "text": [
      "[LightGBM] [Warning] Auto-choosing col-wise multi-threading, the overhead of testing was 0.000142 seconds.\n",
      "You can set `force_col_wise=true` to remove the overhead.\n",
      "[LightGBM] [Info] Total Bins 307\n",
      "[LightGBM] [Info] Number of data points in the train set: 1613, number of used features: 6\n",
      "[LightGBM] [Info] Start training from score 8.252030\n",
      "Training until validation scores don't improve for 20 rounds\n",
      "[10]\tvalid_0's l2: 0.15292\n",
      "[20]\tvalid_0's l2: 0.148656\n",
      "[30]\tvalid_0's l2: 0.148619\n",
      "[40]\tvalid_0's l2: 0.148617\n",
      "Early stopping, best iteration is:\n",
      "[25]\tvalid_0's l2: 0.147886\n",
      "0.38456001685710745\n",
      "[LightGBM] [Warning] Auto-choosing col-wise multi-threading, the overhead of testing was 0.000072 seconds.\n",
      "You can set `force_col_wise=true` to remove the overhead.\n",
      "[LightGBM] [Info] Total Bins 334\n",
      "[LightGBM] [Info] Number of data points in the train set: 1613, number of used features: 6\n",
      "[LightGBM] [Info] Start training from score 8.281300\n",
      "Training until validation scores don't improve for 20 rounds\n",
      "[10]\tvalid_0's l2: 0.116616\n",
      "[20]\tvalid_0's l2: 0.112122\n",
      "[30]\tvalid_0's l2: 0.111383\n",
      "[40]\tvalid_0's l2: 0.111251\n",
      "Early stopping, best iteration is:\n",
      "[27]\tvalid_0's l2: 0.110901\n",
      "0.3330185028975898\n",
      "[LightGBM] [Warning] Auto-choosing col-wise multi-threading, the overhead of testing was 0.000073 seconds.\n",
      "You can set `force_col_wise=true` to remove the overhead.\n",
      "[LightGBM] [Info] Total Bins 331\n",
      "[LightGBM] [Info] Number of data points in the train set: 1614, number of used features: 6\n",
      "[LightGBM] [Info] Start training from score 8.283991\n",
      "Training until validation scores don't improve for 20 rounds\n",
      "[10]\tvalid_0's l2: 0.126802\n",
      "[20]\tvalid_0's l2: 0.124469\n",
      "[30]\tvalid_0's l2: 0.125013\n",
      "[40]\tvalid_0's l2: 0.125692\n",
      "Early stopping, best iteration is:\n",
      "[22]\tvalid_0's l2: 0.124217\n",
      "0.3524448427825162\n"
     ]
    }
   ],
   "source": [
    "import warnings\n",
    "warnings.filterwarnings(\"ignore\")\n",
    "\n",
    "models = []\n",
    "rmses = []\n",
    "oof = np.zeros(len(train_X))\n",
    "\n",
    "for train_index, val_index in kf.split(train_X):\n",
    "    X_train = train_X.iloc[train_index]\n",
    "    X_valid = train_X.iloc[val_index]\n",
    "    y_train = train_Y.iloc[train_index]\n",
    "    y_valid = train_Y.iloc[val_index]\n",
    "    \n",
    "    lgb_train = lgb.Dataset(X_train, y_train)\n",
    "    lgb_eval = lgb.Dataset(X_valid, y_valid, reference=lgb_train)\n",
    "    \n",
    "    model_lgb = lgb.train(lgbm_params,\n",
    "                         lgb_train,\n",
    "                          valid_sets = lgb_eval,\n",
    "                         num_boost_round=100,\n",
    "                         early_stopping_rounds=20,\n",
    "                         verbose_eval = 10)\n",
    "    \n",
    "    y_pred = model_lgb.predict(X_valid, num_iteration=model_lgb.best_iteration)\n",
    "    tmp_rmse = np.sqrt(mean_squared_error(y_valid, y_pred))\n",
    "    print(tmp_rmse)\n",
    "    \n",
    "    models.append(model_lgb)\n",
    "    rmses.append(tmp_rmse)\n",
    "    oof[val_index] = y_pred"
   ]
  },
  {
   "cell_type": "code",
   "execution_count": 611,
   "id": "6a21490a",
   "metadata": {},
   "outputs": [
    {
     "data": {
      "image/png": "[encoded data removed]",
      "text/plain": [
       "<Figure size 432x288 with 1 Axes>"
      ]
     },
     "metadata": {
      "needs_background": "light"
     },
     "output_type": "display_data"
    },
    {
     "data": {
      "image/png": "[encoded data removed]",
      "text/plain": [
       "<Figure size 432x288 with 1 Axes>"
      ]
     },
     "metadata": {
      "needs_background": "light"
     },
     "output_type": "display_data"
    },
    {
     "data": {
      "image/png": "[encoded data removed]",
      "text/plain": [
       "<Figure size 432x288 with 1 Axes>"
      ]
     },
     "metadata": {
      "needs_background": "light"
     },
     "output_type": "display_data"
    }
   ],
   "source": [
    "for model in models:\n",
    "    lgb.plot_importance(model, importance_type='gain', max_num_features=5)"
   ]
  },
  {
   "cell_type": "code",
   "execution_count": 612,
   "id": "73d2a818",
   "metadata": {},
   "outputs": [],
   "source": [
    "actual_pred_df = pd.DataFrame({\n",
    "    \"actual\": train_Y,\n",
    "    \"pred\": oof\n",
    "})"
   ]
  },
  {
   "cell_type": "code",
   "execution_count": 613,
   "id": "d2c5e306",
   "metadata": {},
   "outputs": [
    {
     "data": {
      "text/plain": [
       "<AxesSubplot:>"
      ]
     },
     "execution_count": 613,
     "metadata": {},
     "output_type": "execute_result"
    },
    {
     "data": {
      "image/png": "[encoded data removed]",
      "text/plain": [
       "<Figure size 864x360 with 1 Axes>"
      ]
     },
     "metadata": {
      "needs_background": "light"
     },
     "output_type": "display_data"
    }
   ],
   "source": [
    "import matplotlib as plt\n",
    "\n",
    "actual_pred_df.plot(figsize=(12,5))"
   ]
  },
  {
   "cell_type": "code",
   "execution_count": 615,
   "id": "7859d329",
   "metadata": {},
   "outputs": [
    {
     "data": {
      "text/html": [
       "<div>\n",
       "<style scoped>\n",
       "    .dataframe tbody tr th:only-of-type {\n",
       "        vertical-align: middle;\n",
       "    }\n",
       "\n",
       "    .dataframe tbody tr th {\n",
       "        vertical-align: top;\n",
       "    }\n",
       "\n",
       "    .dataframe thead th {\n",
       "        text-align: right;\n",
       "    }\n",
       "</style>\n",
       "<table border=\"1\" class=\"dataframe\">\n",
       "  <thead>\n",
       "    <tr style=\"text-align: right;\">\n",
       "      <th></th>\n",
       "      <th>areadaprice</th>\n",
       "      <th>market</th>\n",
       "      <th>school</th>\n",
       "      <th>station</th>\n",
       "      <th>bank</th>\n",
       "      <th>cafe</th>\n",
       "      <th>hospital</th>\n",
       "    </tr>\n",
       "  </thead>\n",
       "  <tbody>\n",
       "    <tr>\n",
       "      <th>0</th>\n",
       "      <td>4395.0</td>\n",
       "      <td>5</td>\n",
       "      <td>4</td>\n",
       "      <td>2</td>\n",
       "      <td>40</td>\n",
       "      <td>107</td>\n",
       "      <td>91</td>\n",
       "    </tr>\n",
       "    <tr>\n",
       "      <th>1</th>\n",
       "      <td>3480.0</td>\n",
       "      <td>6</td>\n",
       "      <td>4</td>\n",
       "      <td>2</td>\n",
       "      <td>43</td>\n",
       "      <td>122</td>\n",
       "      <td>98</td>\n",
       "    </tr>\n",
       "    <tr>\n",
       "      <th>2</th>\n",
       "      <td>7701.0</td>\n",
       "      <td>5</td>\n",
       "      <td>0</td>\n",
       "      <td>2</td>\n",
       "      <td>48</td>\n",
       "      <td>174</td>\n",
       "      <td>294</td>\n",
       "    </tr>\n",
       "    <tr>\n",
       "      <th>3</th>\n",
       "      <td>3141.0</td>\n",
       "      <td>8</td>\n",
       "      <td>0</td>\n",
       "      <td>3</td>\n",
       "      <td>70</td>\n",
       "      <td>317</td>\n",
       "      <td>313</td>\n",
       "    </tr>\n",
       "    <tr>\n",
       "      <th>4</th>\n",
       "      <td>10629.0</td>\n",
       "      <td>4</td>\n",
       "      <td>5</td>\n",
       "      <td>3</td>\n",
       "      <td>6</td>\n",
       "      <td>12</td>\n",
       "      <td>11</td>\n",
       "    </tr>\n",
       "    <tr>\n",
       "      <th>...</th>\n",
       "      <td>...</td>\n",
       "      <td>...</td>\n",
       "      <td>...</td>\n",
       "      <td>...</td>\n",
       "      <td>...</td>\n",
       "      <td>...</td>\n",
       "      <td>...</td>\n",
       "    </tr>\n",
       "    <tr>\n",
       "      <th>2415</th>\n",
       "      <td>2087.0</td>\n",
       "      <td>5</td>\n",
       "      <td>2</td>\n",
       "      <td>0</td>\n",
       "      <td>16</td>\n",
       "      <td>32</td>\n",
       "      <td>42</td>\n",
       "    </tr>\n",
       "    <tr>\n",
       "      <th>2416</th>\n",
       "      <td>3164.0</td>\n",
       "      <td>4</td>\n",
       "      <td>1</td>\n",
       "      <td>1</td>\n",
       "      <td>15</td>\n",
       "      <td>58</td>\n",
       "      <td>35</td>\n",
       "    </tr>\n",
       "    <tr>\n",
       "      <th>2417</th>\n",
       "      <td>2095.0</td>\n",
       "      <td>2</td>\n",
       "      <td>2</td>\n",
       "      <td>0</td>\n",
       "      <td>21</td>\n",
       "      <td>48</td>\n",
       "      <td>33</td>\n",
       "    </tr>\n",
       "    <tr>\n",
       "      <th>2418</th>\n",
       "      <td>1752.0</td>\n",
       "      <td>3</td>\n",
       "      <td>3</td>\n",
       "      <td>1</td>\n",
       "      <td>9</td>\n",
       "      <td>25</td>\n",
       "      <td>7</td>\n",
       "    </tr>\n",
       "    <tr>\n",
       "      <th>2419</th>\n",
       "      <td>1843.0</td>\n",
       "      <td>2</td>\n",
       "      <td>3</td>\n",
       "      <td>1</td>\n",
       "      <td>5</td>\n",
       "      <td>8</td>\n",
       "      <td>4</td>\n",
       "    </tr>\n",
       "  </tbody>\n",
       "</table>\n",
       "<p>2420 rows × 7 columns</p>\n",
       "</div>"
      ],
      "text/plain": [
       "      areadaprice  market  school  station  bank  cafe  hospital\n",
       "0          4395.0       5       4        2    40   107        91\n",
       "1          3480.0       6       4        2    43   122        98\n",
       "2          7701.0       5       0        2    48   174       294\n",
       "3          3141.0       8       0        3    70   317       313\n",
       "4         10629.0       4       5        3     6    12        11\n",
       "...           ...     ...     ...      ...   ...   ...       ...\n",
       "2415       2087.0       5       2        0    16    32        42\n",
       "2416       3164.0       4       1        1    15    58        35\n",
       "2417       2095.0       2       2        0    21    48        33\n",
       "2418       1752.0       3       3        1     9    25         7\n",
       "2419       1843.0       2       3        1     5     8         4\n",
       "\n",
       "[2420 rows x 7 columns]"
      ]
     },
     "execution_count": 615,
     "metadata": {},
     "output_type": "execute_result"
    }
   ],
   "source": [
    "df_num = df.select_dtypes(include=[np.number])\n",
    "df_num"
   ]
  },
  {
   "cell_type": "code",
   "execution_count": 618,
   "id": "116736a1",
   "metadata": {},
   "outputs": [
    {
     "data": {
      "text/plain": [
       "['areadaprice', 'bank', 'cafe', 'hospital', 'market', 'school', 'station']"
      ]
     },
     "execution_count": 618,
     "metadata": {},
     "output_type": "execute_result"
    }
   ],
   "source": [
    "num_features = sorted(list(set(df_num)))\n",
    "num_features"
   ]
  },
  {
   "cell_type": "code",
   "execution_count": 619,
   "id": "b2a1a7ed",
   "metadata": {},
   "outputs": [],
   "source": [
    "df_num_rs = df_num[num_features]"
   ]
  },
  {
   "cell_type": "code",
   "execution_count": 620,
   "id": "c6f1ee2a",
   "metadata": {},
   "outputs": [
    {
     "name": "stdout",
     "output_type": "stream",
     "text": [
      "areadaprice 41\n",
      "bank 40\n",
      "cafe 46\n",
      "hospital 32\n",
      "market 16\n",
      "school 13\n",
      "station 13\n"
     ]
    }
   ],
   "source": [
    "for col in num_features:\n",
    "    tmp_df = df_num_rs[(df_num_rs[col] > df_num_rs[col].mean() + df_num_rs[col].std() *3) | (df_num_rs[col] < df_num_rs[col].mean() - df_num_rs[col].std() *3)]\n",
    "                       \n",
    "    print(col, len(tmp_df))"
   ]
  },
  {
   "cell_type": "code",
   "execution_count": 621,
   "id": "ad60def2",
   "metadata": {},
   "outputs": [
    {
     "data": {
      "text/plain": [
       "<AxesSubplot:xlabel='bank', ylabel='areadaprice'>"
      ]
     },
     "execution_count": 621,
     "metadata": {},
     "output_type": "execute_result"
    },
    {
     "data": {
      "image/png": "[encoded data removed]",
      "text/plain": [
       "<Figure size 432x288 with 1 Axes>"
      ]
     },
     "metadata": {
      "needs_background": "light"
     },
     "output_type": "display_data"
    }
   ],
   "source": [
    "df.plot.scatter(x='bank', y='areadaprice')"
   ]
  },
  {
   "cell_type": "code",
   "execution_count": 636,
   "id": "8fee38d8",
   "metadata": {},
   "outputs": [
    {
     "data": {
      "text/html": [
       "<div>\n",
       "<style scoped>\n",
       "    .dataframe tbody tr th:only-of-type {\n",
       "        vertical-align: middle;\n",
       "    }\n",
       "\n",
       "    .dataframe tbody tr th {\n",
       "        vertical-align: top;\n",
       "    }\n",
       "\n",
       "    .dataframe thead th {\n",
       "        text-align: right;\n",
       "    }\n",
       "</style>\n",
       "<table border=\"1\" class=\"dataframe\">\n",
       "  <thead>\n",
       "    <tr style=\"text-align: right;\">\n",
       "      <th></th>\n",
       "      <th>areadaprice</th>\n",
       "      <th>market</th>\n",
       "      <th>school</th>\n",
       "      <th>station</th>\n",
       "      <th>bank</th>\n",
       "      <th>cafe</th>\n",
       "      <th>hospital</th>\n",
       "    </tr>\n",
       "  </thead>\n",
       "  <tbody>\n",
       "    <tr>\n",
       "      <th>4</th>\n",
       "      <td>10629.0</td>\n",
       "      <td>4</td>\n",
       "      <td>5</td>\n",
       "      <td>3</td>\n",
       "      <td>6</td>\n",
       "      <td>12</td>\n",
       "      <td>11</td>\n",
       "    </tr>\n",
       "    <tr>\n",
       "      <th>11</th>\n",
       "      <td>10028.0</td>\n",
       "      <td>4</td>\n",
       "      <td>3</td>\n",
       "      <td>3</td>\n",
       "      <td>11</td>\n",
       "      <td>21</td>\n",
       "      <td>19</td>\n",
       "    </tr>\n",
       "    <tr>\n",
       "      <th>39</th>\n",
       "      <td>11554.0</td>\n",
       "      <td>7</td>\n",
       "      <td>2</td>\n",
       "      <td>1</td>\n",
       "      <td>17</td>\n",
       "      <td>26</td>\n",
       "      <td>34</td>\n",
       "    </tr>\n",
       "    <tr>\n",
       "      <th>44</th>\n",
       "      <td>10352.7</td>\n",
       "      <td>6</td>\n",
       "      <td>1</td>\n",
       "      <td>1</td>\n",
       "      <td>31</td>\n",
       "      <td>48</td>\n",
       "      <td>74</td>\n",
       "    </tr>\n",
       "    <tr>\n",
       "      <th>65</th>\n",
       "      <td>10911.0</td>\n",
       "      <td>5</td>\n",
       "      <td>3</td>\n",
       "      <td>2</td>\n",
       "      <td>20</td>\n",
       "      <td>57</td>\n",
       "      <td>64</td>\n",
       "    </tr>\n",
       "    <tr>\n",
       "      <th>66</th>\n",
       "      <td>12348.0</td>\n",
       "      <td>5</td>\n",
       "      <td>2</td>\n",
       "      <td>5</td>\n",
       "      <td>13</td>\n",
       "      <td>72</td>\n",
       "      <td>31</td>\n",
       "    </tr>\n",
       "    <tr>\n",
       "      <th>68</th>\n",
       "      <td>11365.6</td>\n",
       "      <td>7</td>\n",
       "      <td>4</td>\n",
       "      <td>2</td>\n",
       "      <td>8</td>\n",
       "      <td>14</td>\n",
       "      <td>20</td>\n",
       "    </tr>\n",
       "    <tr>\n",
       "      <th>69</th>\n",
       "      <td>10451.0</td>\n",
       "      <td>11</td>\n",
       "      <td>4</td>\n",
       "      <td>4</td>\n",
       "      <td>23</td>\n",
       "      <td>75</td>\n",
       "      <td>99</td>\n",
       "    </tr>\n",
       "    <tr>\n",
       "      <th>76</th>\n",
       "      <td>11110.0</td>\n",
       "      <td>12</td>\n",
       "      <td>6</td>\n",
       "      <td>4</td>\n",
       "      <td>22</td>\n",
       "      <td>66</td>\n",
       "      <td>84</td>\n",
       "    </tr>\n",
       "    <tr>\n",
       "      <th>79</th>\n",
       "      <td>10827.2</td>\n",
       "      <td>2</td>\n",
       "      <td>5</td>\n",
       "      <td>2</td>\n",
       "      <td>6</td>\n",
       "      <td>9</td>\n",
       "      <td>10</td>\n",
       "    </tr>\n",
       "    <tr>\n",
       "      <th>84</th>\n",
       "      <td>10064.3</td>\n",
       "      <td>9</td>\n",
       "      <td>3</td>\n",
       "      <td>2</td>\n",
       "      <td>28</td>\n",
       "      <td>68</td>\n",
       "      <td>93</td>\n",
       "    </tr>\n",
       "    <tr>\n",
       "      <th>85</th>\n",
       "      <td>10409.4</td>\n",
       "      <td>7</td>\n",
       "      <td>5</td>\n",
       "      <td>3</td>\n",
       "      <td>27</td>\n",
       "      <td>89</td>\n",
       "      <td>96</td>\n",
       "    </tr>\n",
       "    <tr>\n",
       "      <th>103</th>\n",
       "      <td>11015.0</td>\n",
       "      <td>5</td>\n",
       "      <td>2</td>\n",
       "      <td>3</td>\n",
       "      <td>34</td>\n",
       "      <td>49</td>\n",
       "      <td>36</td>\n",
       "    </tr>\n",
       "    <tr>\n",
       "      <th>139</th>\n",
       "      <td>10793.0</td>\n",
       "      <td>1</td>\n",
       "      <td>1</td>\n",
       "      <td>1</td>\n",
       "      <td>17</td>\n",
       "      <td>36</td>\n",
       "      <td>24</td>\n",
       "    </tr>\n",
       "    <tr>\n",
       "      <th>797</th>\n",
       "      <td>10510.8</td>\n",
       "      <td>8</td>\n",
       "      <td>4</td>\n",
       "      <td>5</td>\n",
       "      <td>19</td>\n",
       "      <td>31</td>\n",
       "      <td>63</td>\n",
       "    </tr>\n",
       "    <tr>\n",
       "      <th>801</th>\n",
       "      <td>11039.3</td>\n",
       "      <td>3</td>\n",
       "      <td>8</td>\n",
       "      <td>2</td>\n",
       "      <td>14</td>\n",
       "      <td>27</td>\n",
       "      <td>26</td>\n",
       "    </tr>\n",
       "    <tr>\n",
       "      <th>815</th>\n",
       "      <td>12139.3</td>\n",
       "      <td>8</td>\n",
       "      <td>3</td>\n",
       "      <td>4</td>\n",
       "      <td>23</td>\n",
       "      <td>29</td>\n",
       "      <td>63</td>\n",
       "    </tr>\n",
       "    <tr>\n",
       "      <th>1232</th>\n",
       "      <td>10539.8</td>\n",
       "      <td>9</td>\n",
       "      <td>3</td>\n",
       "      <td>4</td>\n",
       "      <td>11</td>\n",
       "      <td>27</td>\n",
       "      <td>42</td>\n",
       "    </tr>\n",
       "    <tr>\n",
       "      <th>1236</th>\n",
       "      <td>10473.8</td>\n",
       "      <td>8</td>\n",
       "      <td>4</td>\n",
       "      <td>6</td>\n",
       "      <td>21</td>\n",
       "      <td>28</td>\n",
       "      <td>45</td>\n",
       "    </tr>\n",
       "    <tr>\n",
       "      <th>1648</th>\n",
       "      <td>12094.0</td>\n",
       "      <td>3</td>\n",
       "      <td>7</td>\n",
       "      <td>3</td>\n",
       "      <td>17</td>\n",
       "      <td>30</td>\n",
       "      <td>25</td>\n",
       "    </tr>\n",
       "    <tr>\n",
       "      <th>2088</th>\n",
       "      <td>11966.0</td>\n",
       "      <td>7</td>\n",
       "      <td>1</td>\n",
       "      <td>4</td>\n",
       "      <td>32</td>\n",
       "      <td>74</td>\n",
       "      <td>53</td>\n",
       "    </tr>\n",
       "  </tbody>\n",
       "</table>\n",
       "</div>"
      ],
      "text/plain": [
       "      areadaprice  market  school  station  bank  cafe  hospital\n",
       "4         10629.0       4       5        3     6    12        11\n",
       "11        10028.0       4       3        3    11    21        19\n",
       "39        11554.0       7       2        1    17    26        34\n",
       "44        10352.7       6       1        1    31    48        74\n",
       "65        10911.0       5       3        2    20    57        64\n",
       "66        12348.0       5       2        5    13    72        31\n",
       "68        11365.6       7       4        2     8    14        20\n",
       "69        10451.0      11       4        4    23    75        99\n",
       "76        11110.0      12       6        4    22    66        84\n",
       "79        10827.2       2       5        2     6     9        10\n",
       "84        10064.3       9       3        2    28    68        93\n",
       "85        10409.4       7       5        3    27    89        96\n",
       "103       11015.0       5       2        3    34    49        36\n",
       "139       10793.0       1       1        1    17    36        24\n",
       "797       10510.8       8       4        5    19    31        63\n",
       "801       11039.3       3       8        2    14    27        26\n",
       "815       12139.3       8       3        4    23    29        63\n",
       "1232      10539.8       9       3        4    11    27        42\n",
       "1236      10473.8       8       4        6    21    28        45\n",
       "1648      12094.0       3       7        3    17    30        25\n",
       "2088      11966.0       7       1        4    32    74        53"
      ]
     },
     "execution_count": 636,
     "metadata": {},
     "output_type": "execute_result"
    }
   ],
   "source": [
    "df[(df['bank'] >5) & (df['areadaprice'] > 10000)]"
   ]
  },
  {
   "cell_type": "code",
   "execution_count": 623,
   "id": "0829493a",
   "metadata": {},
   "outputs": [
    {
     "data": {
      "text/plain": [
       "<AxesSubplot:xlabel='station', ylabel='areadaprice'>"
      ]
     },
     "execution_count": 623,
     "metadata": {},
     "output_type": "execute_result"
    },
    {
     "data": {
      "image/png": "[encoded data removed]",
      "text/plain": [
       "<Figure size 432x288 with 1 Axes>"
      ]
     },
     "metadata": {
      "needs_background": "light"
     },
     "output_type": "display_data"
    }
   ],
   "source": [
    "df.plot.scatter(x='station', y='areadaprice')"
   ]
  },
  {
   "cell_type": "code",
   "execution_count": 624,
   "id": "077f4ea8",
   "metadata": {},
   "outputs": [
    {
     "data": {
      "text/plain": [
       "<AxesSubplot:xlabel='cafe', ylabel='areadaprice'>"
      ]
     },
     "execution_count": 624,
     "metadata": {},
     "output_type": "execute_result"
    },
    {
     "data": {
      "image/png": "[encoded data removed]",
      "text/plain": [
       "<Figure size 432x288 with 1 Axes>"
      ]
     },
     "metadata": {
      "needs_background": "light"
     },
     "output_type": "display_data"
    }
   ],
   "source": [
    "df.plot.scatter(x='cafe', y='areadaprice')"
   ]
  },
  {
   "cell_type": "code",
   "execution_count": 627,
   "id": "0221ab84",
   "metadata": {},
   "outputs": [
    {
     "data": {
      "text/plain": [
       "<AxesSubplot:xlabel='school', ylabel='areadaprice'>"
      ]
     },
     "execution_count": 627,
     "metadata": {},
     "output_type": "execute_result"
    },
    {
     "data": {
      "image/png": "[encoded data removed]",
      "text/plain": [
       "<Figure size 432x288 with 1 Axes>"
      ]
     },
     "metadata": {
      "needs_background": "light"
     },
     "output_type": "display_data"
    }
   ],
   "source": [
    "df.plot.scatter(x='school', y='areadaprice')"
   ]
  },
  {
   "cell_type": "code",
   "execution_count": 637,
   "id": "a47ecd15",
   "metadata": {},
   "outputs": [
    {
     "data": {
      "text/html": [
       "<div>\n",
       "<style scoped>\n",
       "    .dataframe tbody tr th:only-of-type {\n",
       "        vertical-align: middle;\n",
       "    }\n",
       "\n",
       "    .dataframe tbody tr th {\n",
       "        vertical-align: top;\n",
       "    }\n",
       "\n",
       "    .dataframe thead th {\n",
       "        text-align: right;\n",
       "    }\n",
       "</style>\n",
       "<table border=\"1\" class=\"dataframe\">\n",
       "  <thead>\n",
       "    <tr style=\"text-align: right;\">\n",
       "      <th></th>\n",
       "      <th>areadaprice</th>\n",
       "      <th>market</th>\n",
       "      <th>school</th>\n",
       "      <th>station</th>\n",
       "      <th>bank</th>\n",
       "      <th>cafe</th>\n",
       "      <th>hospital</th>\n",
       "    </tr>\n",
       "  </thead>\n",
       "  <tbody>\n",
       "    <tr>\n",
       "      <th>7</th>\n",
       "      <td>3930.0</td>\n",
       "      <td>9</td>\n",
       "      <td>8</td>\n",
       "      <td>5</td>\n",
       "      <td>1</td>\n",
       "      <td>6</td>\n",
       "      <td>1</td>\n",
       "    </tr>\n",
       "    <tr>\n",
       "      <th>8</th>\n",
       "      <td>8290.0</td>\n",
       "      <td>8</td>\n",
       "      <td>7</td>\n",
       "      <td>5</td>\n",
       "      <td>6</td>\n",
       "      <td>11</td>\n",
       "      <td>17</td>\n",
       "    </tr>\n",
       "    <tr>\n",
       "      <th>74</th>\n",
       "      <td>8875.0</td>\n",
       "      <td>11</td>\n",
       "      <td>8</td>\n",
       "      <td>5</td>\n",
       "      <td>22</td>\n",
       "      <td>34</td>\n",
       "      <td>50</td>\n",
       "    </tr>\n",
       "    <tr>\n",
       "      <th>118</th>\n",
       "      <td>6349.0</td>\n",
       "      <td>8</td>\n",
       "      <td>7</td>\n",
       "      <td>5</td>\n",
       "      <td>30</td>\n",
       "      <td>29</td>\n",
       "      <td>34</td>\n",
       "    </tr>\n",
       "    <tr>\n",
       "      <th>275</th>\n",
       "      <td>2974.2</td>\n",
       "      <td>2</td>\n",
       "      <td>9</td>\n",
       "      <td>2</td>\n",
       "      <td>14</td>\n",
       "      <td>26</td>\n",
       "      <td>19</td>\n",
       "    </tr>\n",
       "    <tr>\n",
       "      <th>...</th>\n",
       "      <td>...</td>\n",
       "      <td>...</td>\n",
       "      <td>...</td>\n",
       "      <td>...</td>\n",
       "      <td>...</td>\n",
       "      <td>...</td>\n",
       "      <td>...</td>\n",
       "    </tr>\n",
       "    <tr>\n",
       "      <th>2362</th>\n",
       "      <td>4049.0</td>\n",
       "      <td>8</td>\n",
       "      <td>8</td>\n",
       "      <td>0</td>\n",
       "      <td>20</td>\n",
       "      <td>41</td>\n",
       "      <td>41</td>\n",
       "    </tr>\n",
       "    <tr>\n",
       "      <th>2368</th>\n",
       "      <td>4056.8</td>\n",
       "      <td>7</td>\n",
       "      <td>10</td>\n",
       "      <td>1</td>\n",
       "      <td>12</td>\n",
       "      <td>10</td>\n",
       "      <td>8</td>\n",
       "    </tr>\n",
       "    <tr>\n",
       "      <th>2391</th>\n",
       "      <td>2238.0</td>\n",
       "      <td>1</td>\n",
       "      <td>8</td>\n",
       "      <td>1</td>\n",
       "      <td>7</td>\n",
       "      <td>2</td>\n",
       "      <td>4</td>\n",
       "    </tr>\n",
       "    <tr>\n",
       "      <th>2392</th>\n",
       "      <td>4091.8</td>\n",
       "      <td>4</td>\n",
       "      <td>7</td>\n",
       "      <td>0</td>\n",
       "      <td>18</td>\n",
       "      <td>59</td>\n",
       "      <td>50</td>\n",
       "    </tr>\n",
       "    <tr>\n",
       "      <th>2394</th>\n",
       "      <td>2822.0</td>\n",
       "      <td>3</td>\n",
       "      <td>9</td>\n",
       "      <td>1</td>\n",
       "      <td>10</td>\n",
       "      <td>8</td>\n",
       "      <td>12</td>\n",
       "    </tr>\n",
       "  </tbody>\n",
       "</table>\n",
       "<p>98 rows × 7 columns</p>\n",
       "</div>"
      ],
      "text/plain": [
       "      areadaprice  market  school  station  bank  cafe  hospital\n",
       "7          3930.0       9       8        5     1     6         1\n",
       "8          8290.0       8       7        5     6    11        17\n",
       "74         8875.0      11       8        5    22    34        50\n",
       "118        6349.0       8       7        5    30    29        34\n",
       "275        2974.2       2       9        2    14    26        19\n",
       "...           ...     ...     ...      ...   ...   ...       ...\n",
       "2362       4049.0       8       8        0    20    41        41\n",
       "2368       4056.8       7      10        1    12    10         8\n",
       "2391       2238.0       1       8        1     7     2         4\n",
       "2392       4091.8       4       7        0    18    59        50\n",
       "2394       2822.0       3       9        1    10     8        12\n",
       "\n",
       "[98 rows x 7 columns]"
      ]
     },
     "execution_count": 637,
     "metadata": {},
     "output_type": "execute_result"
    }
   ],
   "source": [
    "df[df['school'] > 6]"
   ]
  },
  {
   "cell_type": "code",
   "execution_count": 628,
   "id": "ddeac426",
   "metadata": {},
   "outputs": [
    {
     "data": {
      "text/plain": [
       "<AxesSubplot:xlabel='hospital', ylabel='areadaprice'>"
      ]
     },
     "execution_count": 628,
     "metadata": {},
     "output_type": "execute_result"
    },
    {
     "data": {
      "image/png": "[encoded data removed]",
      "text/plain": [
       "<Figure size 432x288 with 1 Axes>"
      ]
     },
     "metadata": {
      "needs_background": "light"
     },
     "output_type": "display_data"
    }
   ],
   "source": [
    "df.plot.scatter(x='hospital', y='areadaprice')"
   ]
  },
  {
   "cell_type": "code",
   "execution_count": null,
   "id": "efaaba11",
   "metadata": {},
   "outputs": [],
   "source": [
    "df = df[(df['bank'] > 200) | (df['areadaprice'].isnull())]\n",
    "df = df[(df['school'] > 200) | (df['areadaprice'].isnull())]\n",
    "df = df[(df['bank'] > 200) | (df['areadaprice'].isnull())]\n",
    "df = df[(df['bank'] > 200) | (df['areadaprice'].isnull())]"
   ]
  }
 ],
 "metadata": {
  "kernelspec": {
   "display_name": "Python 3 (ipykernel)",
   "language": "python",
   "name": "python3"
  },
  "language_info": {
   "codemirror_mode": {
    "name": "ipython",
    "version": 3
   },
   "file_extension": ".py",
   "mimetype": "text/x-python",
   "name": "python",
   "nbconvert_exporter": "python",
   "pygments_lexer": "ipython3",
   "version": "3.9.7"
  }
 },
 "nbformat": 4,
 "nbformat_minor": 5
}
